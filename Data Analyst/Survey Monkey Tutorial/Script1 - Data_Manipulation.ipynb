{
 "cells": [
  {
   "cell_type": "code",
   "execution_count": null,
   "source": [
    "# py 3.8.8\r\n",
    "import pandas as pd\r\n",
    "import os"
   ],
   "outputs": [],
   "metadata": {}
  },
  {
   "cell_type": "code",
   "execution_count": null,
   "source": [
    "pwd = os.getcwd()"
   ],
   "outputs": [],
   "metadata": {}
  },
  {
   "cell_type": "code",
   "execution_count": null,
   "source": [
    "dataset = pd.read_excel(pwd + \"\\\\Data - Survey Monkey Output Edited.xlsx\",sheet_name=\"Edited_Data\")\r\n",
    "dataset"
   ],
   "outputs": [],
   "metadata": {}
  },
  {
   "cell_type": "code",
   "execution_count": null,
   "source": [
    "dataset_modified = dataset.copy()\r\n",
    "dataset_modified"
   ],
   "outputs": [],
   "metadata": {}
  },
  {
   "cell_type": "code",
   "execution_count": null,
   "source": [
    "columns_to_drop = ['Start Date - ', 'End Date - ', 'Email Address - ','First Name - ', 'Last Name - ', 'Custom Data 1 - ']\r\n",
    "columns_to_drop"
   ],
   "outputs": [],
   "metadata": {}
  },
  {
   "cell_type": "code",
   "execution_count": null,
   "source": [
    "dataset_drop = dataset_modified.drop(columns=columns_to_drop)\r\n",
    "dataset_drop"
   ],
   "outputs": [],
   "metadata": {}
  },
  {
   "cell_type": "code",
   "execution_count": null,
   "source": [
    "id_vars = list(dataset_drop.columns)[0:8]\r\n",
    "value_vars = list(dataset_drop.columns)[8 : ]\r\n",
    "print(id_vars)\r\n",
    "print(value_vars)"
   ],
   "outputs": [],
   "metadata": {}
  },
  {
   "cell_type": "code",
   "execution_count": null,
   "source": [
    "'''pd.melt(id_vars=id_vars,value_vars=value_vars, ...) will unpivot columns of value_vars into rows, reducing the number of columns'''\r\n",
    "dataset_melted = dataset_drop.melt(id_vars=id_vars,value_vars=value_vars, var_name=\"Question + Subquestion\", value_name=\"Answer\")\r\n",
    "dataset_melted"
   ],
   "outputs": [],
   "metadata": {}
  },
  {
   "cell_type": "code",
   "execution_count": null,
   "source": [
    "questions_import = pd.read_excel(pwd + \"\\\\Data - Survey Monkey Output Edited.xlsx\", sheet_name=\"Question\")\r\n",
    "questions_import"
   ],
   "outputs": [],
   "metadata": {}
  },
  {
   "cell_type": "code",
   "execution_count": null,
   "source": [
    "questions = questions_import.copy()\r\n",
    "questions.drop(columns=[\"Raw Question\",\t\"Raw Subquestion\", \"Subquestion\", 'Unnamed: 5'], inplace=True)\r\n",
    "questions"
   ],
   "outputs": [],
   "metadata": {}
  },
  {
   "cell_type": "code",
   "execution_count": null,
   "source": [
    "# df = pd.DataFrame([[\"Question 30\", \"Question 30 - Response 3\"]], columns=[\"Question\", \"Question + Subquestion\"])\r\n",
    "# questions = questions.append(df, ignore_index=True)\r\n",
    "# questions\r\n",
    "'''pd.merge(how=\"left\", ...) will match each row of the left dataset with the right dataset. Any duplicates on the right dataset will result in duplicated rows.'''\r\n",
    "dataset_merged = pd.merge(left=dataset_melted, right=questions, how=\"left\", left_on=\"Question + Subquestion\", right_on=\"Question + Subquestion\")\r\n",
    "'''dataset_melted and dataset_merged len should be equal'''\r\n",
    "print(\"Original Data\", len(dataset_melted))\r\n",
    "print(\"Merged Data\", len(dataset_merged))\r\n",
    "dataset_merged"
   ],
   "outputs": [],
   "metadata": {}
  },
  {
   "cell_type": "code",
   "execution_count": null,
   "source": [
    "'''\r\n",
    "this filter out rows of column \"Answer\" that have NaN.\r\n",
    "'''\r\n",
    "respondents = dataset_merged[dataset_merged[\"Answer\"].notna()]\r\n",
    "'''\r\n",
    "pd.groupby(column_to_group) will group the dataset with the column_to_group\r\n",
    "how many times a value occurs? the value are the rows of column_to_group.\r\n",
    "for every row that contains the value 'Question 1', it will group the row to `Question 1`.\r\n",
    "'''\r\n",
    "respondents = respondents.groupby(\"Question\")[\"Respondent ID - \"].nunique().reset_index()\r\n",
    "respondents.rename(columns={\"Respondent ID - \":\"Respondets\"}, inplace=True)\r\n",
    "respondents"
   ],
   "outputs": [],
   "metadata": {}
  },
  {
   "cell_type": "code",
   "execution_count": null,
   "source": [
    "dataset_merged_two = pd.merge(left=dataset_merged, right=respondents, how=\"left\", left_on=\"Question\", right_on=\"Question\")\r\n",
    "print(\"Original Data\", len(dataset_merged))\r\n",
    "print(\"Merged Data\", len(dataset_merged_two))\r\n",
    "dataset_merged_two"
   ],
   "outputs": [],
   "metadata": {}
  },
  {
   "cell_type": "code",
   "execution_count": null,
   "source": [
    "same_answer = dataset_merged#[dataset_merged[\"Answer\"].notna()]\r\n",
    "same_answer = same_answer.groupby([\"Question + Subquestion\", \"Answer\"])[\"Respondent ID - \"].nunique().reset_index()\r\n",
    "same_answer.rename(columns={\"Respondent ID - \":\"Same Answer\"}, inplace=True)\r\n",
    "same_answer"
   ],
   "outputs": [],
   "metadata": {}
  },
  {
   "cell_type": "code",
   "execution_count": null,
   "source": [
    "dataset_merged_three = pd.merge(left=dataset_merged_two, right=same_answer, how=\"left\", left_on=[\"Question + Subquestion\", \"Answer\"], right_on=[\"Question + Subquestion\", \"Answer\"])\r\n",
    "dataset_merged_three[\"Same Answer\"].fillna(0, inplace=True)\r\n",
    "print(\"Original Data\", len(dataset_merged_two))\r\n",
    "print(\"Merged Data\", len(dataset_merged_three))\r\n",
    "dataset_merged_three"
   ],
   "outputs": [],
   "metadata": {}
  },
  {
   "cell_type": "code",
   "execution_count": null,
   "source": [
    "output = dataset_merged_three.copy()\r\n",
    "output.rename(columns={\"Identify which division you work in. - Response\":\"Division Primary\",\"Identify which division you work in. - Other (please specify)\":\"Division Secondary\",\t\"Which of the following best describes your position level? - Response\":\"Position\",\t\"Which generation are you apart of? - Response\":\"Generation\", \"Please select the gender in which you identify. - Response\":\"Gender\",\t\"Which duration range best aligns with your tenure at your company? - Response\":\"Tenure\",\t\"Which of the following best describes your employment type? - Response\":\"Employment Type\"},inplace=True)\r\n",
    "output"
   ],
   "outputs": [],
   "metadata": {}
  },
  {
   "cell_type": "code",
   "execution_count": null,
   "source": [
    "output.to_excel(pwd + \"\\\\Final_Output.xlsx\", index=False)"
   ],
   "outputs": [],
   "metadata": {}
  }
 ],
 "metadata": {
  "orig_nbformat": 4,
  "language_info": {
   "name": "python",
   "version": "3.8.8",
   "mimetype": "text/x-python",
   "codemirror_mode": {
    "name": "ipython",
    "version": 3
   },
   "pygments_lexer": "ipython3",
   "nbconvert_exporter": "python",
   "file_extension": ".py"
  },
  "kernelspec": {
   "name": "python3",
   "display_name": "Python 3.8.8 64-bit (conda)"
  },
  "interpreter": {
   "hash": "468819c82e791b0f9a8e64a9b2ca550cabcbea14dfb8d98bf6b8daf534ac0400"
  }
 },
 "nbformat": 4,
 "nbformat_minor": 2
}